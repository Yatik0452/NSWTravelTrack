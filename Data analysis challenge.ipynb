{
 "cells": [
  {
   "cell_type": "markdown",
   "id": "ba491cc1-db7d-47e7-8672-6fedbd0dceac",
   "metadata": {},
   "source": [
    "# Winter data challenge"
   ]
  },
  {
   "cell_type": "markdown",
   "id": "9b6463c2-0e50-4430-bbde-e04290c3f0d5",
   "metadata": {},
   "source": [
    "## Import dependances"
   ]
  },
  {
   "cell_type": "code",
   "execution_count": 1,
   "id": "89a36d9f-7d8a-4cb3-beb1-e6061a5b9e54",
   "metadata": {},
   "outputs": [],
   "source": [
    "import pandas as pd\n",
    "import geopandas as gpd\n",
    "import os"
   ]
  },
  {
   "cell_type": "markdown",
   "id": "d1293175-de9d-4fe1-b964-d79d96c038d8",
   "metadata": {},
   "source": [
    "## Load files"
   ]
  },
  {
   "cell_type": "code",
   "execution_count": 2,
   "id": "2c816c68-37bf-4c0f-bfe2-e9f95fc8dec1",
   "metadata": {},
   "outputs": [
    {
     "data": {
      "application/vnd.microsoft.datawrangler.viewer.v0+json": {
       "columns": [
        {
         "name": "index",
         "rawType": "int64",
         "type": "integer"
        },
        {
         "name": "MonthYear",
         "rawType": "object",
         "type": "string"
        },
        {
         "name": "Station",
         "rawType": "object",
         "type": "string"
        },
        {
         "name": "Station_Type ",
         "rawType": "object",
         "type": "string"
        },
        {
         "name": "Entry_Exit",
         "rawType": "object",
         "type": "string"
        },
        {
         "name": "Trip",
         "rawType": "object",
         "type": "string"
        }
       ],
       "ref": "5c429461-17c1-46b5-95a3-10e4e0fda9c8",
       "rows": [
        [
         "0",
         "Aug-24",
         "Aberdeen  Station",
         "train",
         "Entry",
         "Less than 50"
        ],
        [
         "1",
         "Aug-24",
         "Aberdeen  Station",
         "train",
         "Exit",
         "Less than 50"
        ],
        [
         "2",
         "Aug-24",
         "Adamstown  Station",
         "train",
         "Entry",
         "2585"
        ],
        [
         "3",
         "Aug-24",
         "Adamstown  Station",
         "train",
         "Exit",
         "2391"
        ],
        [
         "4",
         "Aug-24",
         "Albion Park  Station",
         "train",
         "Entry",
         "6919"
        ]
       ],
       "shape": {
        "columns": 5,
        "rows": 5
       }
      },
      "text/html": [
       "<div>\n",
       "<style scoped>\n",
       "    .dataframe tbody tr th:only-of-type {\n",
       "        vertical-align: middle;\n",
       "    }\n",
       "\n",
       "    .dataframe tbody tr th {\n",
       "        vertical-align: top;\n",
       "    }\n",
       "\n",
       "    .dataframe thead th {\n",
       "        text-align: right;\n",
       "    }\n",
       "</style>\n",
       "<table border=\"1\" class=\"dataframe\">\n",
       "  <thead>\n",
       "    <tr style=\"text-align: right;\">\n",
       "      <th></th>\n",
       "      <th>MonthYear</th>\n",
       "      <th>Station</th>\n",
       "      <th>Station_Type</th>\n",
       "      <th>Entry_Exit</th>\n",
       "      <th>Trip</th>\n",
       "    </tr>\n",
       "  </thead>\n",
       "  <tbody>\n",
       "    <tr>\n",
       "      <th>0</th>\n",
       "      <td>Aug-24</td>\n",
       "      <td>Aberdeen  Station</td>\n",
       "      <td>train</td>\n",
       "      <td>Entry</td>\n",
       "      <td>Less than 50</td>\n",
       "    </tr>\n",
       "    <tr>\n",
       "      <th>1</th>\n",
       "      <td>Aug-24</td>\n",
       "      <td>Aberdeen  Station</td>\n",
       "      <td>train</td>\n",
       "      <td>Exit</td>\n",
       "      <td>Less than 50</td>\n",
       "    </tr>\n",
       "    <tr>\n",
       "      <th>2</th>\n",
       "      <td>Aug-24</td>\n",
       "      <td>Adamstown  Station</td>\n",
       "      <td>train</td>\n",
       "      <td>Entry</td>\n",
       "      <td>2585</td>\n",
       "    </tr>\n",
       "    <tr>\n",
       "      <th>3</th>\n",
       "      <td>Aug-24</td>\n",
       "      <td>Adamstown  Station</td>\n",
       "      <td>train</td>\n",
       "      <td>Exit</td>\n",
       "      <td>2391</td>\n",
       "    </tr>\n",
       "    <tr>\n",
       "      <th>4</th>\n",
       "      <td>Aug-24</td>\n",
       "      <td>Albion Park  Station</td>\n",
       "      <td>train</td>\n",
       "      <td>Entry</td>\n",
       "      <td>6919</td>\n",
       "    </tr>\n",
       "  </tbody>\n",
       "</table>\n",
       "</div>"
      ],
      "text/plain": [
       "  MonthYear               Station Station_Type  Entry_Exit          Trip\n",
       "0    Aug-24     Aberdeen  Station         train      Entry  Less than 50\n",
       "1    Aug-24     Aberdeen  Station         train       Exit  Less than 50\n",
       "2    Aug-24    Adamstown  Station         train      Entry          2585\n",
       "3    Aug-24    Adamstown  Station         train       Exit          2391\n",
       "4    Aug-24  Albion Park  Station         train      Entry          6919"
      ]
     },
     "execution_count": 2,
     "metadata": {},
     "output_type": "execute_result"
    }
   ],
   "source": [
    "#1) TrainStationEntriesExits\n",
    "TrainStationEntriesExits = \"./WDAC_2025_data/TrainStationEntriesExits/train-station-entries-exits-data-may-2025.csv\"\n",
    "TrainStationEntriesExits = pd.read_csv(TrainStationEntriesExits)\n",
    "TrainStationEntriesExits.head()"
   ]
  },
  {
   "cell_type": "code",
   "execution_count": 3,
   "id": "46fd5f5e-f01e-4256-ac60-a5f9c1943ee4",
   "metadata": {},
   "outputs": [
    {
     "data": {
      "application/vnd.microsoft.datawrangler.viewer.v0+json": {
       "columns": [
        {
         "name": "index",
         "rawType": "int64",
         "type": "integer"
        },
        {
         "name": "Train_Station",
         "rawType": "object",
         "type": "string"
        },
        {
         "name": "Street_Name",
         "rawType": "object",
         "type": "string"
        },
        {
         "name": "Street_Type",
         "rawType": "object",
         "type": "string"
        },
        {
         "name": "Entrance_Type",
         "rawType": "object",
         "type": "string"
        },
        {
         "name": "LAT",
         "rawType": "float64",
         "type": "float"
        },
        {
         "name": "LONG",
         "rawType": "float64",
         "type": "float"
        },
        {
         "name": "Exit_Number",
         "rawType": "float64",
         "type": "float"
        }
       ],
       "ref": "76eb553d-1339-43bf-a710-bb2842b70aec",
       "rows": [
        [
         "0",
         "Aberdeen",
         "Macqueen",
         "St",
         "Ramp",
         "-32.16688641",
         "150.8919573",
         null
        ],
        [
         "1",
         "Aberdeen",
         "Macqueen",
         "St",
         "Stairs",
         "-32.16689969",
         "150.8919751",
         null
        ],
        [
         "2",
         "Adamstown",
         "Park",
         "Ave",
         "Path",
         "-32.9337056",
         "151.7204518",
         null
        ],
        [
         "3",
         "Adamstown",
         "Park",
         "Ave",
         "Path",
         "-32.93382729",
         "151.7202364",
         null
        ],
        [
         "4",
         "Adamstown",
         "St James",
         "Rd",
         "Stairs",
         "-32.93341396",
         "151.7203632",
         null
        ]
       ],
       "shape": {
        "columns": 7,
        "rows": 5
       }
      },
      "text/html": [
       "<div>\n",
       "<style scoped>\n",
       "    .dataframe tbody tr th:only-of-type {\n",
       "        vertical-align: middle;\n",
       "    }\n",
       "\n",
       "    .dataframe tbody tr th {\n",
       "        vertical-align: top;\n",
       "    }\n",
       "\n",
       "    .dataframe thead th {\n",
       "        text-align: right;\n",
       "    }\n",
       "</style>\n",
       "<table border=\"1\" class=\"dataframe\">\n",
       "  <thead>\n",
       "    <tr style=\"text-align: right;\">\n",
       "      <th></th>\n",
       "      <th>Train_Station</th>\n",
       "      <th>Street_Name</th>\n",
       "      <th>Street_Type</th>\n",
       "      <th>Entrance_Type</th>\n",
       "      <th>LAT</th>\n",
       "      <th>LONG</th>\n",
       "      <th>Exit_Number</th>\n",
       "    </tr>\n",
       "  </thead>\n",
       "  <tbody>\n",
       "    <tr>\n",
       "      <th>0</th>\n",
       "      <td>Aberdeen</td>\n",
       "      <td>Macqueen</td>\n",
       "      <td>St</td>\n",
       "      <td>Ramp</td>\n",
       "      <td>-32.166886</td>\n",
       "      <td>150.891957</td>\n",
       "      <td>NaN</td>\n",
       "    </tr>\n",
       "    <tr>\n",
       "      <th>1</th>\n",
       "      <td>Aberdeen</td>\n",
       "      <td>Macqueen</td>\n",
       "      <td>St</td>\n",
       "      <td>Stairs</td>\n",
       "      <td>-32.166900</td>\n",
       "      <td>150.891975</td>\n",
       "      <td>NaN</td>\n",
       "    </tr>\n",
       "    <tr>\n",
       "      <th>2</th>\n",
       "      <td>Adamstown</td>\n",
       "      <td>Park</td>\n",
       "      <td>Ave</td>\n",
       "      <td>Path</td>\n",
       "      <td>-32.933706</td>\n",
       "      <td>151.720452</td>\n",
       "      <td>NaN</td>\n",
       "    </tr>\n",
       "    <tr>\n",
       "      <th>3</th>\n",
       "      <td>Adamstown</td>\n",
       "      <td>Park</td>\n",
       "      <td>Ave</td>\n",
       "      <td>Path</td>\n",
       "      <td>-32.933827</td>\n",
       "      <td>151.720236</td>\n",
       "      <td>NaN</td>\n",
       "    </tr>\n",
       "    <tr>\n",
       "      <th>4</th>\n",
       "      <td>Adamstown</td>\n",
       "      <td>St James</td>\n",
       "      <td>Rd</td>\n",
       "      <td>Stairs</td>\n",
       "      <td>-32.933414</td>\n",
       "      <td>151.720363</td>\n",
       "      <td>NaN</td>\n",
       "    </tr>\n",
       "  </tbody>\n",
       "</table>\n",
       "</div>"
      ],
      "text/plain": [
       "  Train_Station Street_Name Street_Type Entrance_Type        LAT        LONG  \\\n",
       "0      Aberdeen    Macqueen          St          Ramp -32.166886  150.891957   \n",
       "1      Aberdeen    Macqueen          St        Stairs -32.166900  150.891975   \n",
       "2     Adamstown        Park         Ave          Path -32.933706  151.720452   \n",
       "3     Adamstown        Park         Ave          Path -32.933827  151.720236   \n",
       "4     Adamstown    St James          Rd        Stairs -32.933414  151.720363   \n",
       "\n",
       "   Exit_Number  \n",
       "0          NaN  \n",
       "1          NaN  \n",
       "2          NaN  \n",
       "3          NaN  \n",
       "4          NaN  "
      ]
     },
     "execution_count": 3,
     "metadata": {},
     "output_type": "execute_result"
    }
   ],
   "source": [
    "#2) TrainStationEntranceLocation\n",
    "TrainStationEntranceLocation = \"./WDAC_2025_data/TrainStationEntranceLocations/stationentrances2020_v4.csv\"\n",
    "TrainStationEntranceLocation = pd.read_csv(TrainStationEntranceLocation)\n",
    "TrainStationEntranceLocation.head()"
   ]
  },
  {
   "cell_type": "code",
   "execution_count": 4,
   "id": "aa1d4f54-8b9f-49c4-bcfe-71fee18a6e07",
   "metadata": {},
   "outputs": [
    {
     "data": {
      "text/html": [
       "<div>\n",
       "<style scoped>\n",
       "    .dataframe tbody tr th:only-of-type {\n",
       "        vertical-align: middle;\n",
       "    }\n",
       "\n",
       "    .dataframe tbody tr th {\n",
       "        vertical-align: top;\n",
       "    }\n",
       "\n",
       "    .dataframe thead th {\n",
       "        text-align: right;\n",
       "    }\n",
       "</style>\n",
       "<table border=\"1\" class=\"dataframe\">\n",
       "  <thead>\n",
       "    <tr style=\"text-align: right;\">\n",
       "      <th></th>\n",
       "      <th>objectid</th>\n",
       "      <th>shape_id</th>\n",
       "      <th>route_id</th>\n",
       "      <th>agency_id</th>\n",
       "      <th>route_shor</th>\n",
       "      <th>route_long</th>\n",
       "      <th>route_desc</th>\n",
       "      <th>route_type</th>\n",
       "      <th>route_colo</th>\n",
       "      <th>route_text</th>\n",
       "      <th>exact_time</th>\n",
       "      <th>route_ty00</th>\n",
       "      <th>st_length(</th>\n",
       "      <th>geometry</th>\n",
       "    </tr>\n",
       "  </thead>\n",
       "  <tbody>\n",
       "    <tr>\n",
       "      <th>0</th>\n",
       "      <td>1</td>\n",
       "      <td>APS_1a</td>\n",
       "      <td>APS_1a</td>\n",
       "      <td>SydneyTrains</td>\n",
       "      <td>T8</td>\n",
       "      <td>City Circle to Macarthur via Airport</td>\n",
       "      <td>T8 Airport &amp; South Line</td>\n",
       "      <td>Rail</td>\n",
       "      <td>00954C</td>\n",
       "      <td>FFFFFF</td>\n",
       "      <td>None</td>\n",
       "      <td>Rail</td>\n",
       "      <td>67399.109358</td>\n",
       "      <td>LINESTRING (16832327.387 -4013201.666, 1683235...</td>\n",
       "    </tr>\n",
       "    <tr>\n",
       "      <th>1</th>\n",
       "      <td>54</td>\n",
       "      <td>SCO_1a</td>\n",
       "      <td>SCO_1a</td>\n",
       "      <td>NSWTrains</td>\n",
       "      <td>SCO</td>\n",
       "      <td>Bondi Junction and Central to Bomaderry</td>\n",
       "      <td>South Coast Line</td>\n",
       "      <td>Rail</td>\n",
       "      <td>005AA3</td>\n",
       "      <td>FFFFFF</td>\n",
       "      <td>None</td>\n",
       "      <td>Rail</td>\n",
       "      <td>194277.573535</td>\n",
       "      <td>LINESTRING (16836959.548 -4014215.996, 1683679...</td>\n",
       "    </tr>\n",
       "    <tr>\n",
       "      <th>2</th>\n",
       "      <td>55</td>\n",
       "      <td>SCO_1b</td>\n",
       "      <td>SCO_1b</td>\n",
       "      <td>NSWTrains</td>\n",
       "      <td>SCO</td>\n",
       "      <td>Bondi Junction and Central to Port Kembla</td>\n",
       "      <td>South Coast Line</td>\n",
       "      <td>Rail</td>\n",
       "      <td>005AA3</td>\n",
       "      <td>FFFFFF</td>\n",
       "      <td>None</td>\n",
       "      <td>Rail</td>\n",
       "      <td>118023.250081</td>\n",
       "      <td>LINESTRING (16836959.548 -4014215.996, 1683679...</td>\n",
       "    </tr>\n",
       "    <tr>\n",
       "      <th>3</th>\n",
       "      <td>56</td>\n",
       "      <td>SCO_2a</td>\n",
       "      <td>SCO_2a</td>\n",
       "      <td>NSWTrains</td>\n",
       "      <td>SCO</td>\n",
       "      <td>Bomaderry to Central and Bondi Junction</td>\n",
       "      <td>South Coast Line</td>\n",
       "      <td>Rail</td>\n",
       "      <td>005AA3</td>\n",
       "      <td>FFFFFF</td>\n",
       "      <td>None</td>\n",
       "      <td>Rail</td>\n",
       "      <td>194277.573535</td>\n",
       "      <td>LINESTRING (16765811.588 -4144037.366, 1676629...</td>\n",
       "    </tr>\n",
       "    <tr>\n",
       "      <th>4</th>\n",
       "      <td>57</td>\n",
       "      <td>SCO_2b</td>\n",
       "      <td>SCO_2b</td>\n",
       "      <td>NSWTrains</td>\n",
       "      <td>SCO</td>\n",
       "      <td>Port Kembla to Central and Bondi Junction</td>\n",
       "      <td>South Coast Line</td>\n",
       "      <td>Rail</td>\n",
       "      <td>005AA3</td>\n",
       "      <td>FFFFFF</td>\n",
       "      <td>None</td>\n",
       "      <td>Rail</td>\n",
       "      <td>118023.250081</td>\n",
       "      <td>LINESTRING (16798220.922 -4093038.532, 1679824...</td>\n",
       "    </tr>\n",
       "  </tbody>\n",
       "</table>\n",
       "</div>"
      ],
      "text/plain": [
       "   objectid shape_id route_id     agency_id route_shor  \\\n",
       "0         1   APS_1a   APS_1a  SydneyTrains         T8   \n",
       "1        54   SCO_1a   SCO_1a     NSWTrains        SCO   \n",
       "2        55   SCO_1b   SCO_1b     NSWTrains        SCO   \n",
       "3        56   SCO_2a   SCO_2a     NSWTrains        SCO   \n",
       "4        57   SCO_2b   SCO_2b     NSWTrains        SCO   \n",
       "\n",
       "                                  route_long               route_desc  \\\n",
       "0       City Circle to Macarthur via Airport  T8 Airport & South Line   \n",
       "1    Bondi Junction and Central to Bomaderry         South Coast Line   \n",
       "2  Bondi Junction and Central to Port Kembla         South Coast Line   \n",
       "3    Bomaderry to Central and Bondi Junction         South Coast Line   \n",
       "4  Port Kembla to Central and Bondi Junction         South Coast Line   \n",
       "\n",
       "  route_type route_colo route_text exact_time route_ty00     st_length(  \\\n",
       "0       Rail     00954C     FFFFFF       None       Rail   67399.109358   \n",
       "1       Rail     005AA3     FFFFFF       None       Rail  194277.573535   \n",
       "2       Rail     005AA3     FFFFFF       None       Rail  118023.250081   \n",
       "3       Rail     005AA3     FFFFFF       None       Rail  194277.573535   \n",
       "4       Rail     005AA3     FFFFFF       None       Rail  118023.250081   \n",
       "\n",
       "                                            geometry  \n",
       "0  LINESTRING (16832327.387 -4013201.666, 1683235...  \n",
       "1  LINESTRING (16836959.548 -4014215.996, 1683679...  \n",
       "2  LINESTRING (16836959.548 -4014215.996, 1683679...  \n",
       "3  LINESTRING (16765811.588 -4144037.366, 1676629...  \n",
       "4  LINESTRING (16798220.922 -4093038.532, 1679824...  "
      ]
     },
     "execution_count": 4,
     "metadata": {},
     "output_type": "execute_result"
    }
   ],
   "source": [
    "#3) SydneyTrainRoutes\n",
    "shapefile_path = \"./WDAC_2025_data/SydneyTrainRoutes/sydneytrains/SydneyTrains.shp\"\n",
    "SydneyTrainRoutes = gpd.read_file(shapefile_path)\n",
    "\n",
    "# Check the first few rows\n",
    "SydneyTrainRoutes.head()"
   ]
  },
  {
   "cell_type": "code",
   "execution_count": 5,
   "id": "8a6693de-2f26-4a7c-9810-b0e2e9d7d755",
   "metadata": {},
   "outputs": [
    {
     "name": "stderr",
     "output_type": "stream",
     "text": [
      "C:\\Users\\soora\\AppData\\Local\\Temp\\ipykernel_24008\\2516324058.py:11: FutureWarning: The behavior of DataFrame concatenation with empty or all-NA entries is deprecated. In a future version, this will no longer exclude empty or all-NA columns when determining the result dtypes. To retain the old behavior, exclude the relevant entries before the concat operation.\n",
      "  opal_df = pd.concat(dfs, ignore_index=True)\n"
     ]
    },
    {
     "data": {
      "application/vnd.microsoft.datawrangler.viewer.v0+json": {
       "columns": [
        {
         "name": "index",
         "rawType": "int64",
         "type": "integer"
        },
        {
         "name": "trip_origin_date",
         "rawType": "object",
         "type": "string"
        },
        {
         "name": "mode_name",
         "rawType": "object",
         "type": "string"
        },
        {
         "name": "ti_region",
         "rawType": "object",
         "type": "string"
        },
        {
         "name": "tap_hour",
         "rawType": "float64",
         "type": "float"
        },
        {
         "name": "Tap_Ons",
         "rawType": "object",
         "type": "string"
        },
        {
         "name": "Tap_Offs",
         "rawType": "object",
         "type": "string"
        },
        {
         "name": "https://opendata-tpa.transport.nsw.gov.au/Opal_Patronage/2020-01/Opal_Patronage_20200101.txt",
         "rawType": "object",
         "type": "unknown"
        }
       ],
       "ref": "67e278f9-a484-47c7-adbb-01949e91bfe7",
       "rows": [
        [
         "0",
         "2020-01-01",
         "Bus",
         "Chatswood",
         "0.0",
         "<50",
         "<50",
         null
        ],
        [
         "1",
         "2020-01-01",
         "Bus",
         "Macquarie Park",
         "0.0",
         "<50",
         "<50",
         null
        ],
        [
         "2",
         "2020-01-01",
         "Bus",
         "Newcastle and surrounds",
         "0.0",
         "<50",
         "<50",
         null
        ],
        [
         "3",
         "2020-01-01",
         "Bus",
         "North Sydney",
         "0.0",
         "700",
         "100",
         null
        ],
        [
         "4",
         "2020-01-01",
         "Bus",
         "Other",
         "0.0",
         "4500",
         "3200",
         null
        ]
       ],
       "shape": {
        "columns": 7,
        "rows": 5
       }
      },
      "text/html": [
       "<div>\n",
       "<style scoped>\n",
       "    .dataframe tbody tr th:only-of-type {\n",
       "        vertical-align: middle;\n",
       "    }\n",
       "\n",
       "    .dataframe tbody tr th {\n",
       "        vertical-align: top;\n",
       "    }\n",
       "\n",
       "    .dataframe thead th {\n",
       "        text-align: right;\n",
       "    }\n",
       "</style>\n",
       "<table border=\"1\" class=\"dataframe\">\n",
       "  <thead>\n",
       "    <tr style=\"text-align: right;\">\n",
       "      <th></th>\n",
       "      <th>trip_origin_date</th>\n",
       "      <th>mode_name</th>\n",
       "      <th>ti_region</th>\n",
       "      <th>tap_hour</th>\n",
       "      <th>Tap_Ons</th>\n",
       "      <th>Tap_Offs</th>\n",
       "      <th>https://opendata-tpa.transport.nsw.gov.au/Opal_Patronage/2020-01/Opal_Patronage_20200101.txt</th>\n",
       "    </tr>\n",
       "  </thead>\n",
       "  <tbody>\n",
       "    <tr>\n",
       "      <th>0</th>\n",
       "      <td>2020-01-01</td>\n",
       "      <td>Bus</td>\n",
       "      <td>Chatswood</td>\n",
       "      <td>0.0</td>\n",
       "      <td>&lt;50</td>\n",
       "      <td>&lt;50</td>\n",
       "      <td>NaN</td>\n",
       "    </tr>\n",
       "    <tr>\n",
       "      <th>1</th>\n",
       "      <td>2020-01-01</td>\n",
       "      <td>Bus</td>\n",
       "      <td>Macquarie Park</td>\n",
       "      <td>0.0</td>\n",
       "      <td>&lt;50</td>\n",
       "      <td>&lt;50</td>\n",
       "      <td>NaN</td>\n",
       "    </tr>\n",
       "    <tr>\n",
       "      <th>2</th>\n",
       "      <td>2020-01-01</td>\n",
       "      <td>Bus</td>\n",
       "      <td>Newcastle and surrounds</td>\n",
       "      <td>0.0</td>\n",
       "      <td>&lt;50</td>\n",
       "      <td>&lt;50</td>\n",
       "      <td>NaN</td>\n",
       "    </tr>\n",
       "    <tr>\n",
       "      <th>3</th>\n",
       "      <td>2020-01-01</td>\n",
       "      <td>Bus</td>\n",
       "      <td>North Sydney</td>\n",
       "      <td>0.0</td>\n",
       "      <td>700</td>\n",
       "      <td>100</td>\n",
       "      <td>NaN</td>\n",
       "    </tr>\n",
       "    <tr>\n",
       "      <th>4</th>\n",
       "      <td>2020-01-01</td>\n",
       "      <td>Bus</td>\n",
       "      <td>Other</td>\n",
       "      <td>0.0</td>\n",
       "      <td>4500</td>\n",
       "      <td>3200</td>\n",
       "      <td>NaN</td>\n",
       "    </tr>\n",
       "  </tbody>\n",
       "</table>\n",
       "</div>"
      ],
      "text/plain": [
       "  trip_origin_date mode_name                ti_region  tap_hour Tap_Ons  \\\n",
       "0       2020-01-01       Bus                Chatswood       0.0     <50   \n",
       "1       2020-01-01       Bus           Macquarie Park       0.0     <50   \n",
       "2       2020-01-01       Bus  Newcastle and surrounds       0.0     <50   \n",
       "3       2020-01-01       Bus             North Sydney       0.0     700   \n",
       "4       2020-01-01       Bus                    Other       0.0    4500   \n",
       "\n",
       "  Tap_Offs  \\\n",
       "0      <50   \n",
       "1      <50   \n",
       "2      <50   \n",
       "3      100   \n",
       "4     3200   \n",
       "\n",
       "  https://opendata-tpa.transport.nsw.gov.au/Opal_Patronage/2020-01/Opal_Patronage_20200101.txt  \n",
       "0                                                NaN                                            \n",
       "1                                                NaN                                            \n",
       "2                                                NaN                                            \n",
       "3                                                NaN                                            \n",
       "4                                                NaN                                            "
      ]
     },
     "execution_count": 5,
     "metadata": {},
     "output_type": "execute_result"
    }
   ],
   "source": [
    "#3) Opal Patronages\n",
    "# alot of them each one is txt\n",
    "folder = \"./WDAC_2025_data/OpalPatronage\"\n",
    "dfs = []\n",
    "\n",
    "for file in os.listdir(folder):\n",
    "    if file.endswith(\".txt\"):\n",
    "        df = pd.read_csv(os.path.join(folder, file), sep='|')\n",
    "        dfs.append(df)\n",
    "\n",
    "opal_df = pd.concat(dfs, ignore_index=True)\n",
    "opal_df.head()"
   ]
  },
  {
   "cell_type": "markdown",
   "id": "a8a0ba5d-7e00-4f92-995b-922329c93585",
   "metadata": {},
   "source": [
    "## Data cleaning and preprocessing"
   ]
  },
  {
   "cell_type": "code",
   "execution_count": null,
   "id": "9c0b7598-5b44-4823-97a5-ca721f97ccd5",
   "metadata": {},
   "outputs": [],
   "source": []
  }
 ],
 "metadata": {
  "kernelspec": {
   "display_name": "Python 3",
   "language": "python",
   "name": "python3"
  },
  "language_info": {
   "codemirror_mode": {
    "name": "ipython",
    "version": 3
   },
   "file_extension": ".py",
   "mimetype": "text/x-python",
   "name": "python",
   "nbconvert_exporter": "python",
   "pygments_lexer": "ipython3",
   "version": "3.11.9"
  }
 },
 "nbformat": 4,
 "nbformat_minor": 5
}
